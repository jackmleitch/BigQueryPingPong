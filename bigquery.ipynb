{
 "cells": [
  {
   "cell_type": "code",
   "execution_count": 4,
   "source": [
    "from google.cloud import bigquery\n",
    "import os\n",
    "os.environ[\"GOOGLE_APPLICATION_CREDENTIALS\"] = '/Users/Jack/Documents/Projects/BigQueryPingPong/input/pingpong-322517-aab02d6e732c.json'"
   ],
   "outputs": [],
   "metadata": {}
  },
  {
   "cell_type": "code",
   "execution_count": 5,
   "source": [
    "client = bigquery.Client()\n",
    "# dataset_ref = client.dataset(\"PingPong\", project=\"pingpong-322517\")\n",
    "# dataset = client.get_dataset(dataset_ref)"
   ],
   "outputs": [],
   "metadata": {}
  },
  {
   "cell_type": "code",
   "execution_count": 4,
   "source": [
    "def head2head(client, player1, player2):\n",
    "    '''\n",
    "    Returns a head-to-head of the two specified players\n",
    "    :param client: A Client object that specifies the connection to the dataset\n",
    "    :param player1/player2: String, names of players to compare\n",
    "    :return: Head-to-head of two players\n",
    "    '''\n",
    "    \n",
    "    players = [player1, player2]\n",
    "    players = sorted(players)\n",
    "    player1, player2 = players[0], players[1]\n",
    "\n",
    "    my_query = \"\"\"\n",
    "               WITH filter AS \n",
    "               (\n",
    "               SELECT *\n",
    "               FROM `pingpong-322517.PingPong.history`\n",
    "               WHERE player1 = '{}' AND player2 = '{}'\n",
    "               ORDER BY id\n",
    "               )\n",
    "               SELECT winner, COUNT(winner) AS wins\n",
    "               FROM filter\n",
    "               GROUP BY winner\n",
    "               \"\"\".format(player1, player2)\n",
    "    \n",
    "    # Set up the query \n",
    "    safe_config = bigquery.QueryJobConfig(maximum_bytes_billed=10**10)      \n",
    "    my_query_job = client.query(my_query, job_config=safe_config)\n",
    "\n",
    "    # API request - run the query, and return a pandas DataFrame\n",
    "    results = my_query_job.to_dataframe()\n",
    "\n",
    "    return results\n",
    "    \n",
    "head = head2head(client, 'Logan', 'Jack')\n",
    "print(head)"
   ],
   "outputs": [
    {
     "output_type": "stream",
     "name": "stdout",
     "text": [
      "  winner  wins\n",
      "0   Jack     2\n",
      "1  Logan    44\n"
     ]
    }
   ],
   "metadata": {}
  },
  {
   "cell_type": "code",
   "execution_count": 51,
   "source": [
    "def rankings(client, display=False):\n",
    "    \"\"\"\n",
    "    Returns player rankings with games >= 10\n",
    "    :param client: A Client object that specifies the connection to the dataset\n",
    "    :return: player rankings\n",
    "    \"\"\"\n",
    "    if display:\n",
    "        my_query = \"\"\"\n",
    "                SELECT *\n",
    "                FROM `pingpong-322517.PingPong.current_rank`\n",
    "                WHERE games >= 10\n",
    "                ORDER BY rating DESC\n",
    "                \"\"\"\n",
    "    else:\n",
    "        my_query = \"\"\"\n",
    "                SELECT *\n",
    "                FROM `pingpong-322517.PingPong.current_rank`\n",
    "                ORDER BY rating DESC\n",
    "                \"\"\"\n",
    "    \n",
    "    # Set up the query \n",
    "    safe_config = bigquery.QueryJobConfig(maximum_bytes_billed=10**10)      \n",
    "    my_query_job = client.query(my_query, job_config=safe_config)\n",
    "\n",
    "    # API request - run the query, and return a pandas DataFrame\n",
    "    results = my_query_job.to_dataframe()\n",
    "\n",
    "    return results\n",
    "    \n",
    "head = rankings(client)\n",
    "print(head)"
   ],
   "outputs": [
    {
     "output_type": "stream",
     "name": "stdout",
     "text": [
      "       name  rating  games\n",
      "0     Logan    1388    278\n",
      "1      Leif    1093     24\n",
      "2      John    1045     43\n",
      "3     Miler     937    172\n",
      "4     Dario     936      6\n",
      "5     Ahmed     933      7\n",
      "6       Ben     929      3\n",
      "7   Delaney     924      7\n",
      "8     Henry     923    200\n",
      "9     Tyler     913     12\n",
      "10     Jack     897    146\n",
      "11     Luis     874      9\n",
      "12     Cade     865      9\n",
      "13    Aidan     807     17\n",
      "14  Murdoch     734     44\n"
     ]
    }
   ],
   "metadata": {}
  },
  {
   "cell_type": "code",
   "execution_count": 50,
   "source": [
    "def history(client):\n",
    "    '''\n",
    "    Returns player ranking history\n",
    "    :param client: A Client object that specifies the connection to the dataset\n",
    "    :return: player ranking history \n",
    "    '''\n",
    "    \n",
    "    my_query = \"\"\"\n",
    "               SELECT *\n",
    "               FROM `pingpong-322517.PingPong.ranking_history`\n",
    "               ORDER BY id DESC\n",
    "               \"\"\"\n",
    "    \n",
    "    # Set up the query \n",
    "    safe_config = bigquery.QueryJobConfig(maximum_bytes_billed=10**10)      \n",
    "    my_query_job = client.query(my_query, job_config=safe_config)\n",
    "\n",
    "    # API request - run the query, and return a pandas DataFrame\n",
    "    results = my_query_job.to_dataframe()\n",
    "\n",
    "    return results\n",
    "    \n",
    "hist = history(client)\n",
    "print(hist)"
   ],
   "outputs": [
    {
     "output_type": "stream",
     "name": "stdout",
     "text": [
      "      id  Logan  Leif  John  Miler  Dario  Ahmed   Ben  Delaney  Henry  Tyler  \\\n",
      "0    409   1386  1093  1045    937    936    933   929      924    923    913   \n",
      "1    408   1386  1093  1045    937    936    933   929      924    923    913   \n",
      "2    407   1381  1093  1051    937    936    933   929      924    923    913   \n",
      "3    406   1376  1093  1057    937    936    933   929      924    923    913   \n",
      "4    405   1370  1093  1064    937    936    933   929      924    923    913   \n",
      "..   ...    ...   ...   ...    ...    ...    ...   ...      ...    ...    ...   \n",
      "405    4   1000  1000     0   1000   1000    983  1000        0   1040      0   \n",
      "406    3   1000  1000     0   1000   1000    960  1000        0   1040      0   \n",
      "407    2   1000  1000     0   1000   1000    979  1000        0   1022      0   \n",
      "408    1   1000  1000     0   1000   1000    979  1000        0   1000      0   \n",
      "409    0   1000  1000     0   1000   1000   1000  1000        0   1000      0   \n",
      "\n",
      "     Luis  Jack  Cade  Aidan  Murdoch  \n",
      "0     874   866   865    807      734  \n",
      "1     874   866   865    807      734  \n",
      "2     874   866   865    807      734  \n",
      "3     874   866   865    807      734  \n",
      "4     874   866   865    807      734  \n",
      "..    ...   ...   ...    ...      ...  \n",
      "405     0  1000     0    974     1000  \n",
      "406     0  1000     0    998     1000  \n",
      "407     0  1000     0    998     1000  \n",
      "408     0  1000     0   1021     1000  \n",
      "409     0  1000     0   1000     1000  \n",
      "\n",
      "[410 rows x 16 columns]\n"
     ]
    }
   ],
   "metadata": {}
  },
  {
   "cell_type": "code",
   "execution_count": 72,
   "source": [
    "df = rankings(client)\n",
    "print(df)"
   ],
   "outputs": [
    {
     "output_type": "stream",
     "name": "stdout",
     "text": [
      "      name  rating  games\n",
      "0    Logan    1386    277\n",
      "1     Leif    1093     24\n",
      "2     John    1045     43\n",
      "3    Miler     937    172\n",
      "4    Henry     923    200\n",
      "5    Tyler     913     12\n",
      "6     Jack     900    144\n",
      "7    Aidan     807     17\n",
      "8  Murdoch     734     44\n"
     ]
    }
   ],
   "metadata": {}
  },
  {
   "cell_type": "code",
   "execution_count": 53,
   "source": [
    "from rankingSystem import recordMatch\n",
    "print(recordMatch(df, \"Jack\", \"Logan\", \"Logan\"))"
   ],
   "outputs": [
    {
     "output_type": "error",
     "ename": "NameError",
     "evalue": "name 'df' is not defined",
     "traceback": [
      "\u001b[0;31m---------------------------------------------------------------------------\u001b[0m",
      "\u001b[0;31mNameError\u001b[0m                                 Traceback (most recent call last)",
      "\u001b[0;32m<ipython-input-53-4ae8ffb3dbca>\u001b[0m in \u001b[0;36m<module>\u001b[0;34m\u001b[0m\n\u001b[1;32m      1\u001b[0m \u001b[0;32mfrom\u001b[0m \u001b[0mrankingSystem\u001b[0m \u001b[0;32mimport\u001b[0m \u001b[0mrecordMatch\u001b[0m\u001b[0;34m\u001b[0m\u001b[0;34m\u001b[0m\u001b[0m\n\u001b[0;32m----> 2\u001b[0;31m \u001b[0mprint\u001b[0m\u001b[0;34m(\u001b[0m\u001b[0mrecordMatch\u001b[0m\u001b[0;34m(\u001b[0m\u001b[0mdf\u001b[0m\u001b[0;34m,\u001b[0m \u001b[0;34m\"Jack\"\u001b[0m\u001b[0;34m,\u001b[0m \u001b[0;34m\"Logan\"\u001b[0m\u001b[0;34m,\u001b[0m \u001b[0;34m\"Logan\"\u001b[0m\u001b[0;34m)\u001b[0m\u001b[0;34m)\u001b[0m\u001b[0;34m\u001b[0m\u001b[0;34m\u001b[0m\u001b[0m\n\u001b[0m",
      "\u001b[0;31mNameError\u001b[0m: name 'df' is not defined"
     ]
    }
   ],
   "metadata": {}
  },
  {
   "cell_type": "code",
   "execution_count": 49,
   "source": [
    "def update_rankings(client, person1, person2, winner):\n",
    "    \n",
    "    df = rankings(client)\n",
    "    new_ranking_1, new_ranking_2 = recordMatch(df, person1, person2, winner)\n",
    "\n",
    "    my_query1 = \"\"\"\n",
    "                UPDATE `pingpong-322517.PingPong.current_rank`\n",
    "                SET rating = {}, games = games + 1\n",
    "                WHERE name = '{}'\n",
    "                \"\"\".format(new_ranking_1,person1)\n",
    "    my_query2 = \"\"\"\n",
    "                UPDATE `pingpong-322517.PingPong.current_rank`\n",
    "                SET rating = {}, games = games + 1\n",
    "                WHERE name = '{}'\n",
    "                \"\"\".format(new_ranking_2,person2)\n",
    "\n",
    "    safe_config = bigquery.QueryJobConfig(maximum_bytes_billed=10**10)   \n",
    "\n",
    "    my_query_job1 = client.query(my_query1, job_config=safe_config)\n",
    "    my_query_job1.result()\n",
    "    my_query_job2 = client.query(my_query2, job_config=safe_config)\n",
    "    my_query_job2.result()\n",
    "\n",
    "    print(f\"Rankings updated for game between {person1} and {person2}\")\n"
   ],
   "outputs": [],
   "metadata": {}
  },
  {
   "cell_type": "code",
   "execution_count": 54,
   "source": [
    "update_rankings(client, \"Jack\", \"Logan\", \"Logan\")\n",
    "print(rankings(client))"
   ],
   "outputs": [
    {
     "output_type": "stream",
     "name": "stdout",
     "text": [
      "Rankings updated for game between Jack and Logan\n",
      "       name  rating  games\n",
      "0     Logan    1390    279\n",
      "1      Leif    1093     24\n",
      "2      John    1045     43\n",
      "3     Miler     937    172\n",
      "4     Dario     936      6\n",
      "5     Ahmed     933      7\n",
      "6       Ben     929      3\n",
      "7   Delaney     924      7\n",
      "8     Henry     923    200\n",
      "9     Tyler     913     12\n",
      "10     Jack     894    147\n",
      "11     Luis     874      9\n",
      "12     Cade     865      9\n",
      "13    Aidan     807     17\n",
      "14  Murdoch     734     44\n"
     ]
    }
   ],
   "metadata": {}
  },
  {
   "cell_type": "code",
   "execution_count": 66,
   "source": [
    "def update_rankings_goback(client, person1, person2, winner):\n",
    "    df = rankings(client)\n",
    "    new_ranking_1, new_ranking_2 = recordMatch(df, person1, person2, winner)\n",
    "    print(new_ranking_1, new_ranking_2)\n",
    "\n",
    "    my_query1 = \"\"\"\n",
    "                UPDATE `pingpong-322517.PingPong.current_rank`\n",
    "                SET rating = 915, games = 145\n",
    "                WHERE name = 'Jack'\n",
    "                \"\"\"\n",
    "    my_query2 = \"\"\"\n",
    "                UPDATE `pingpong-322517.PingPong.current_rank`\n",
    "                SET rating = 1386, games = 277\n",
    "                WHERE name = 'Logan'\n",
    "                \"\"\"\n",
    "                \n",
    "\n",
    "    safe_config = bigquery.QueryJobConfig(maximum_bytes_billed=10**10)   \n",
    "\n",
    "    my_query_job = client.query(my_query1, job_config=safe_config)\n",
    "    my_query_job = client.query(my_query2, job_config=safe_config)\n",
    "\n",
    "update_rankings_goback(client, \"Jack\", \"Logan\", \"Logan\")"
   ],
   "outputs": [
    {
     "output_type": "stream",
     "name": "stdout",
     "text": [
      "950 1349\n"
     ]
    }
   ],
   "metadata": {}
  },
  {
   "cell_type": "code",
   "execution_count": 57,
   "source": [
    "hist = history(client)\n",
    "ranks = rankings(client)\n",
    "ranks"
   ],
   "outputs": [
    {
     "output_type": "execute_result",
     "data": {
      "text/plain": [
       "       name  rating  games\n",
       "0     Logan    1386    277\n",
       "1      Leif    1093     24\n",
       "2      John    1045     43\n",
       "3     Miler     937    172\n",
       "4     Dario     936      6\n",
       "5     Ahmed     933      7\n",
       "6       Ben     929      3\n",
       "7   Delaney     924      7\n",
       "8     Henry     923    200\n",
       "9      Jack     915    145\n",
       "10    Tyler     913     12\n",
       "11     Luis     874      9\n",
       "12     Cade     865      9\n",
       "13    Aidan     807     17\n",
       "14  Murdoch     734     44"
      ],
      "text/html": [
       "<div>\n",
       "<style scoped>\n",
       "    .dataframe tbody tr th:only-of-type {\n",
       "        vertical-align: middle;\n",
       "    }\n",
       "\n",
       "    .dataframe tbody tr th {\n",
       "        vertical-align: top;\n",
       "    }\n",
       "\n",
       "    .dataframe thead th {\n",
       "        text-align: right;\n",
       "    }\n",
       "</style>\n",
       "<table border=\"1\" class=\"dataframe\">\n",
       "  <thead>\n",
       "    <tr style=\"text-align: right;\">\n",
       "      <th></th>\n",
       "      <th>name</th>\n",
       "      <th>rating</th>\n",
       "      <th>games</th>\n",
       "    </tr>\n",
       "  </thead>\n",
       "  <tbody>\n",
       "    <tr>\n",
       "      <th>0</th>\n",
       "      <td>Logan</td>\n",
       "      <td>1386</td>\n",
       "      <td>277</td>\n",
       "    </tr>\n",
       "    <tr>\n",
       "      <th>1</th>\n",
       "      <td>Leif</td>\n",
       "      <td>1093</td>\n",
       "      <td>24</td>\n",
       "    </tr>\n",
       "    <tr>\n",
       "      <th>2</th>\n",
       "      <td>John</td>\n",
       "      <td>1045</td>\n",
       "      <td>43</td>\n",
       "    </tr>\n",
       "    <tr>\n",
       "      <th>3</th>\n",
       "      <td>Miler</td>\n",
       "      <td>937</td>\n",
       "      <td>172</td>\n",
       "    </tr>\n",
       "    <tr>\n",
       "      <th>4</th>\n",
       "      <td>Dario</td>\n",
       "      <td>936</td>\n",
       "      <td>6</td>\n",
       "    </tr>\n",
       "    <tr>\n",
       "      <th>5</th>\n",
       "      <td>Ahmed</td>\n",
       "      <td>933</td>\n",
       "      <td>7</td>\n",
       "    </tr>\n",
       "    <tr>\n",
       "      <th>6</th>\n",
       "      <td>Ben</td>\n",
       "      <td>929</td>\n",
       "      <td>3</td>\n",
       "    </tr>\n",
       "    <tr>\n",
       "      <th>7</th>\n",
       "      <td>Delaney</td>\n",
       "      <td>924</td>\n",
       "      <td>7</td>\n",
       "    </tr>\n",
       "    <tr>\n",
       "      <th>8</th>\n",
       "      <td>Henry</td>\n",
       "      <td>923</td>\n",
       "      <td>200</td>\n",
       "    </tr>\n",
       "    <tr>\n",
       "      <th>9</th>\n",
       "      <td>Jack</td>\n",
       "      <td>915</td>\n",
       "      <td>145</td>\n",
       "    </tr>\n",
       "    <tr>\n",
       "      <th>10</th>\n",
       "      <td>Tyler</td>\n",
       "      <td>913</td>\n",
       "      <td>12</td>\n",
       "    </tr>\n",
       "    <tr>\n",
       "      <th>11</th>\n",
       "      <td>Luis</td>\n",
       "      <td>874</td>\n",
       "      <td>9</td>\n",
       "    </tr>\n",
       "    <tr>\n",
       "      <th>12</th>\n",
       "      <td>Cade</td>\n",
       "      <td>865</td>\n",
       "      <td>9</td>\n",
       "    </tr>\n",
       "    <tr>\n",
       "      <th>13</th>\n",
       "      <td>Aidan</td>\n",
       "      <td>807</td>\n",
       "      <td>17</td>\n",
       "    </tr>\n",
       "    <tr>\n",
       "      <th>14</th>\n",
       "      <td>Murdoch</td>\n",
       "      <td>734</td>\n",
       "      <td>44</td>\n",
       "    </tr>\n",
       "  </tbody>\n",
       "</table>\n",
       "</div>"
      ]
     },
     "metadata": {},
     "execution_count": 57
    }
   ],
   "metadata": {}
  },
  {
   "cell_type": "code",
   "execution_count": 27,
   "source": [
    "# rank_mapping = dict(zip(ranks.name, ranks.rating))\n",
    "# rank_mapping['id'] = hist.id.max() + 1\n",
    "# names = hist.columns.to_list()\n",
    "# # print(names)\n",
    "# to_add = [rank_mapping.get(name) for name in names]\n",
    "# # INSERT `sample-project-12345.Test.account` (`ID`, `Name`, `Salary` ) \n",
    "# # VALUES ('E001', 'John', 25000)\n",
    "# my_query = \"\"\"\n",
    "#            INSERT INTO `pingpong-322517.PingPong.ranking_history` ()\n",
    "#            FROM `pingpong-322517.PingPong.ranking_history`\n",
    "#            \"\"\"\n",
    "# max_id = client.query(my_query).to_dataframe().iloc[0][0]\n"
   ],
   "outputs": [
    {
     "output_type": "execute_result",
     "data": {
      "text/plain": [
       "16"
      ]
     },
     "metadata": {},
     "execution_count": 27
    }
   ],
   "metadata": {}
  },
  {
   "cell_type": "code",
   "execution_count": 48,
   "source": [
    "hist = history(client)\n",
    "ranks = rankings(client)\n",
    "def update_history(client, ranks, hist):\n",
    "\n",
    "    names = ranks.name.tolist()\n",
    "    names.append('id')\n",
    "    columns_query = ', '.join(names)\n",
    "\n",
    "    rank_vals = ranks.rating.tolist()\n",
    "    rank_vals.append(hist.id.max() + 1)\n",
    "    string_rank = [str(num) for num in rank_vals] \n",
    "    rank_query = \", \".join(string_rank) \n",
    "\n",
    "    my_query = f\"\"\"\n",
    "                INSERT INTO `pingpong-322517.PingPong.ranking_history` ({columns_query})\n",
    "                VALUES ({rank_query})\n",
    "                \"\"\"\n",
    "    hist_update = client.query(my_query)\n",
    "    hist_update.result()\n",
    "\n",
    "    print(f\"Rankings updated for row index {rank_vals[-1]}\")"
   ],
   "outputs": [],
   "metadata": {}
  },
  {
   "cell_type": "code",
   "execution_count": 52,
   "source": [
    "# update_history(client, ranks, hist)\n",
    "print(history(client))"
   ],
   "outputs": [
    {
     "output_type": "stream",
     "name": "stdout",
     "text": [
      "      id  Logan  Leif  John  Miler  Dario  Ahmed   Ben  Delaney  Henry  Tyler  \\\n",
      "0    409   1386  1093  1045    937    936    933   929      924    923    913   \n",
      "1    408   1386  1093  1045    937    936    933   929      924    923    913   \n",
      "2    407   1381  1093  1051    937    936    933   929      924    923    913   \n",
      "3    406   1376  1093  1057    937    936    933   929      924    923    913   \n",
      "4    405   1370  1093  1064    937    936    933   929      924    923    913   \n",
      "..   ...    ...   ...   ...    ...    ...    ...   ...      ...    ...    ...   \n",
      "405    4   1000  1000     0   1000   1000    983  1000        0   1040      0   \n",
      "406    3   1000  1000     0   1000   1000    960  1000        0   1040      0   \n",
      "407    2   1000  1000     0   1000   1000    979  1000        0   1022      0   \n",
      "408    1   1000  1000     0   1000   1000    979  1000        0   1000      0   \n",
      "409    0   1000  1000     0   1000   1000   1000  1000        0   1000      0   \n",
      "\n",
      "     Luis  Jack  Cade  Aidan  Murdoch  \n",
      "0     874   866   865    807      734  \n",
      "1     874   866   865    807      734  \n",
      "2     874   866   865    807      734  \n",
      "3     874   866   865    807      734  \n",
      "4     874   866   865    807      734  \n",
      "..    ...   ...   ...    ...      ...  \n",
      "405     0  1000     0    974     1000  \n",
      "406     0  1000     0    998     1000  \n",
      "407     0  1000     0    998     1000  \n",
      "408     0  1000     0   1021     1000  \n",
      "409     0  1000     0   1000     1000  \n",
      "\n",
      "[410 rows x 16 columns]\n"
     ]
    }
   ],
   "metadata": {}
  },
  {
   "cell_type": "code",
   "execution_count": 51,
   "source": [
    "def delete_previous_history(client):\n",
    "    hist = history(client)\n",
    "    idx_to_delete = hist.id.max() \n",
    "\n",
    "    my_query =  f\"\"\"\n",
    "                DELETE FROM `pingpong-322517.PingPong.ranking_history`\n",
    "                WHERE id = {idx_to_delete}\n",
    "                \"\"\"\n",
    "\n",
    "    safe_config = bigquery.QueryJobConfig(maximum_bytes_billed=10**10)   \n",
    "    my_query_job = client.query(my_query, job_config=safe_config)\n",
    "    print(f\"Deleted column with id = {idx_to_delete}\")\n",
    "\n",
    "    \n",
    "\n",
    "delete_previous_history(client)"
   ],
   "outputs": [
    {
     "output_type": "stream",
     "name": "stdout",
     "text": [
      "Deleted column with id = 410\n"
     ]
    }
   ],
   "metadata": {}
  },
  {
   "cell_type": "code",
   "execution_count": 22,
   "source": [
    "def game_history(client):\n",
    "    my_query = \"\"\"\n",
    "               SELECT *\n",
    "               FROM `pingpong-322517.PingPong.history`\n",
    "               ORDER BY id DESC\n",
    "               \"\"\"\n",
    "    game_history = client.query(my_query).to_dataframe()\n",
    "    return game_history"
   ],
   "outputs": [],
   "metadata": {}
  },
  {
   "cell_type": "code",
   "execution_count": 24,
   "source": [
    "def update_game_history(client, person1, person2, winner):\n",
    "    my_query = \"\"\"\n",
    "               SELECT *\n",
    "               FROM `pingpong-322517.PingPong.history`\n",
    "               \"\"\"\n",
    "    \n",
    "    game_hist = game_history(client)\n",
    "    idx_to_add = game_hist.id.max() + 1\n",
    "    \n",
    "    update = f\"{idx_to_add}, '{person1}', '{person2}', '{winner}'\"\n",
    "    my_update_query = F\"\"\"\n",
    "                      INSERT INTO `pingpong-322517.PingPong.history` (id, player1, player2, winner)\n",
    "                      VALUES ({update})\n",
    "                      \"\"\"\n",
    "    game_history_update = client.query(my_update_query)\n",
    "    game_history_update.result()\n",
    "\n",
    "    print(f\"Rankings updated for game between {person1} and {person2}\")"
   ],
   "outputs": [],
   "metadata": {}
  },
  {
   "cell_type": "code",
   "execution_count": 25,
   "source": [
    "update_game_history(client, \"JACK\", \"LOGAN\", \"JACK\")"
   ],
   "outputs": [
    {
     "output_type": "stream",
     "name": "stdout",
     "text": [
      "Rankings updated for game between JACK and LOGAN\n"
     ]
    }
   ],
   "metadata": {}
  },
  {
   "cell_type": "code",
   "execution_count": 30,
   "source": [
    "game_hist = game_history(client)\n",
    "print(game_hist)"
   ],
   "outputs": [
    {
     "output_type": "stream",
     "name": "stdout",
     "text": [
      "      id player1 player2 winner\n",
      "0    350    John   Logan  Logan\n",
      "1    349    John   Logan  Logan\n",
      "2    348    John   Logan  Logan\n",
      "3    347    John   Logan  Logan\n",
      "4    346    John   Logan  Logan\n",
      "..   ...     ...     ...    ...\n",
      "346    4   Aidan   Henry  Henry\n",
      "347    3   Ahmed   Aidan  Ahmed\n",
      "348    2   Ahmed   Henry  Henry\n",
      "349    1   Aidan   Henry  Henry\n",
      "350    0   Ahmed   Aidan  Aidan\n",
      "\n",
      "[351 rows x 4 columns]\n"
     ]
    }
   ],
   "metadata": {}
  },
  {
   "cell_type": "code",
   "execution_count": 29,
   "source": [
    "def delete_previous_game(client):\n",
    "    game_hist = game_history(client)\n",
    "    idx_to_delete = game_hist.id.max() \n",
    "\n",
    "    my_query =  f\"\"\"\n",
    "                DELETE FROM `pingpong-322517.PingPong.history`\n",
    "                WHERE id = {idx_to_delete}\n",
    "                \"\"\"\n",
    "\n",
    "    safe_config = bigquery.QueryJobConfig(maximum_bytes_billed=10**10)   \n",
    "    my_query_job = client.query(my_query, job_config=safe_config)\n",
    "    print(f\"Deleted column with id = {idx_to_delete}\")\n",
    "\n",
    "delete_previous_game(client)"
   ],
   "outputs": [
    {
     "output_type": "stream",
     "name": "stdout",
     "text": [
      "Deleted column with id = 351\n"
     ]
    }
   ],
   "metadata": {}
  },
  {
   "cell_type": "code",
   "execution_count": 55,
   "source": [
    "def revert_back_rankings(client):\n",
    "\n",
    "    # get newly updated game result\n",
    "    recent_game = game_history(client)\n",
    "    recent_game = recent_game.loc[recent_game['id'] == recent_game.id.max()]\n",
    "    names_to_update = recent_game.values.tolist()[0][1:-1]\n",
    "\n",
    "    # get old scores\n",
    "    hist = history(client)\n",
    "    idx_to_update = hist.id.max() - 1\n",
    "    old_scores = hist.loc[hist['id'] == idx_to_update].to_dict('records')[0]\n",
    "\n",
    "    my_query = f\"\"\"\n",
    "               UPDATE `pingpong-322517.PingPong.current_rank`\n",
    "               SET {names_to_update[0]} = {old_scores[names_to_update[0]]}, {names_to_update[1]} = {old_scores[names_to_update[1]]}\n",
    "               WHERE condition\n",
    "               \"\"\"\n",
    "    safe_config = bigquery.QueryJobConfig(maximum_bytes_billed=10**10)   \n",
    "    my_query_job = client.query(my_query, job_config=safe_config)\n",
    "    print(f\"Reverted scores\")\n",
    "\n",
    "revert_back_rankings(client)\n",
    "print(rankings(client))"
   ],
   "outputs": [
    {
     "output_type": "stream",
     "name": "stdout",
     "text": [
      "{'id': 408, 'Logan': 1386, 'Leif': 1093, 'John': 1045, 'Miler': 937, 'Dario': 936, 'Ahmed': 933, 'Ben': 929, 'Delaney': 924, 'Henry': 923, 'Tyler': 913, 'Luis': 874, 'Jack': 866, 'Cade': 865, 'Aidan': 807, 'Murdoch': 734}\n",
      "Reverted scores\n",
      "       name  rating  games\n",
      "0     Logan    1390    279\n",
      "1      Leif    1093     24\n",
      "2      John    1045     43\n",
      "3     Miler     937    172\n",
      "4     Dario     936      6\n",
      "5     Ahmed     933      7\n",
      "6       Ben     929      3\n",
      "7   Delaney     924      7\n",
      "8     Henry     923    200\n",
      "9     Tyler     913     12\n",
      "10     Jack     894    147\n",
      "11     Luis     874      9\n",
      "12     Cade     865      9\n",
      "13    Aidan     807     17\n",
      "14  Murdoch     734     44\n"
     ]
    }
   ],
   "metadata": {}
  },
  {
   "cell_type": "code",
   "execution_count": 70,
   "source": [
    "def revert_back_rankings(client):\n",
    "\n",
    "    # get newly updated game result\n",
    "    recent_game = game_history(client)\n",
    "    recent_game = recent_game.loc[recent_game[\"id\"] == recent_game.id.max()]\n",
    "    names_to_update = recent_game.values.tolist()[0][1:-1]\n",
    "    print(names_to_update)\n",
    "\n",
    "    # get old scores\n",
    "    hist = history(client)\n",
    "    idx_to_update = hist.id.max() - 1\n",
    "    old_scores = hist.loc[hist[\"id\"] == idx_to_update].to_dict(\"records\")[0]\n",
    "    print(old_scores)\n",
    "    my_query1 = f\"\"\"\n",
    "               UPDATE `pingpong-322517.PingPong.current_rank`\n",
    "               SET rating = {old_scores[names_to_update[0]]}, games = games - 1\n",
    "               WHERE name = '{names_to_update[0]}'\n",
    "               \"\"\"\n",
    "    print(my_query1)\n",
    "    # my_query2 = f\"\"\"\n",
    "    #         UPDATE `pingpong-322517.PingPong.current_rank`\n",
    "    #         SET rating = {old_scores[names_to_update[1]]}, games = games - 1\n",
    "    #         WHERE name = {names_to_update[1]}\n",
    "    #         \"\"\"\n",
    "    # safe_config = bigquery.QueryJobConfig(maximum_bytes_billed=10 ** 10)\n",
    "    # my_query_job = client.query(my_query1, job_config=safe_config)\n",
    "    # my_query_job = client.query(my_query2, job_config=safe_config)\n",
    "    # print(f\"Reverted scores\")\n",
    "revert_back_rankings(client)\n"
   ],
   "outputs": [
    {
     "output_type": "stream",
     "name": "stdout",
     "text": [
      "['Jack', 'Logan']\n",
      "{'id': 410, 'Logan': 1386, 'Leif': 1093, 'John': 1045, 'Miler': 937, 'Dario': 936, 'Ahmed': 933, 'Ben': 929, 'Delaney': 924, 'Henry': 923, 'Tyler': 913, 'Luis': 874, 'Jack': 915, 'Cade': 865, 'Aidan': 807, 'Murdoch': 734}\n",
      "\n",
      "               UPDATE `pingpong-322517.PingPong.current_rank`\n",
      "               SET rating = 915, games = games - 1\n",
      "               WHERE name = 'Jack'\n",
      "               \n"
     ]
    }
   ],
   "metadata": {}
  }
 ],
 "metadata": {
  "orig_nbformat": 4,
  "language_info": {
   "name": "python",
   "version": "3.7.9",
   "mimetype": "text/x-python",
   "codemirror_mode": {
    "name": "ipython",
    "version": 3
   },
   "pygments_lexer": "ipython3",
   "nbconvert_exporter": "python",
   "file_extension": ".py"
  },
  "kernelspec": {
   "name": "python3",
   "display_name": "Python 3.7.9 64-bit ('myenv': conda)"
  },
  "interpreter": {
   "hash": "28a4ac92c4dc07a1a3916df32b8e89429a21b7d9d6a4118ca37610ee862531fa"
  }
 },
 "nbformat": 4,
 "nbformat_minor": 2
}