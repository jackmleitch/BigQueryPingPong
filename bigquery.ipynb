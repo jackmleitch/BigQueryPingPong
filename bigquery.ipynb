{
 "cells": [
  {
   "cell_type": "code",
   "execution_count": 1,
   "source": [
    "from google.cloud import bigquery\n",
    "import os\n",
    "os.environ[\"GOOGLE_APPLICATION_CREDENTIALS\"] = '/Users/Jack/Documents/Projects/BigQueryPingPong/input/pingpong-322517-aab02d6e732c.json'"
   ],
   "outputs": [],
   "metadata": {}
  },
  {
   "cell_type": "code",
   "execution_count": 2,
   "source": [
    "client = bigquery.Client()\n",
    "# dataset_ref = client.dataset(\"PingPong\", project=\"pingpong-322517\")\n",
    "# dataset = client.get_dataset(dataset_ref)"
   ],
   "outputs": [],
   "metadata": {}
  },
  {
   "cell_type": "code",
   "execution_count": 4,
   "source": [
    "def head2head(client, player1, player2):\n",
    "    '''\n",
    "    Returns a head-to-head of the two specified players\n",
    "    :param client: A Client object that specifies the connection to the dataset\n",
    "    :param player1/player2: String, names of players to compare\n",
    "    :return: Head-to-head of two players\n",
    "    '''\n",
    "    \n",
    "    players = [player1, player2]\n",
    "    players = sorted(players)\n",
    "    player1, player2 = players[0], players[1]\n",
    "\n",
    "    my_query = \"\"\"\n",
    "               WITH filter AS \n",
    "               (\n",
    "               SELECT *\n",
    "               FROM `pingpong-322517.PingPong.history`\n",
    "               WHERE player1 = '{}' AND player2 = '{}'\n",
    "               ORDER BY id\n",
    "               )\n",
    "               SELECT winner, COUNT(winner) AS wins\n",
    "               FROM filter\n",
    "               GROUP BY winner\n",
    "               \"\"\".format(player1, player2)\n",
    "    \n",
    "    # Set up the query \n",
    "    safe_config = bigquery.QueryJobConfig(maximum_bytes_billed=10**10)      \n",
    "    my_query_job = client.query(my_query, job_config=safe_config)\n",
    "\n",
    "    # API request - run the query, and return a pandas DataFrame\n",
    "    results = my_query_job.to_dataframe()\n",
    "\n",
    "    return results\n",
    "    \n",
    "head = head2head(client, 'Logan', 'Jack')\n",
    "print(head)"
   ],
   "outputs": [
    {
     "output_type": "stream",
     "name": "stdout",
     "text": [
      "  winner  wins\n",
      "0   Jack     2\n",
      "1  Logan    44\n"
     ]
    }
   ],
   "metadata": {}
  },
  {
   "cell_type": "code",
   "execution_count": 7,
   "source": [
    "def rankings(client):\n",
    "    '''\n",
    "    Returns player rankings with games >= 10\n",
    "    :param client: A Client object that specifies the connection to the dataset\n",
    "    :return: player rankings\n",
    "    '''\n",
    "    \n",
    "    my_query = \"\"\"\n",
    "               SELECT *\n",
    "               FROM `pingpong-322517.PingPong.current_rank`\n",
    "               WHERE games >= 10\n",
    "               ORDER BY rating DESC\n",
    "               \"\"\"\n",
    "    \n",
    "    # Set up the query \n",
    "    safe_config = bigquery.QueryJobConfig(maximum_bytes_billed=10**10)      \n",
    "    my_query_job = client.query(my_query, job_config=safe_config)\n",
    "\n",
    "    # API request - run the query, and return a pandas DataFrame\n",
    "    results = my_query_job.to_dataframe()\n",
    "\n",
    "    return results\n",
    "    \n",
    "head = rankings(client)\n",
    "print(head)"
   ],
   "outputs": [
    {
     "output_type": "stream",
     "name": "stdout",
     "text": [
      "      name  rating  games\n",
      "0    Logan    1386    277\n",
      "1     Leif    1093     24\n",
      "2     John    1045     43\n",
      "3    Miler     937    172\n",
      "4    Henry     923    200\n",
      "5    Tyler     913     12\n",
      "6     Jack     866    144\n",
      "7    Aidan     807     17\n",
      "8  Murdoch     734     44\n"
     ]
    }
   ],
   "metadata": {}
  },
  {
   "cell_type": "markdown",
   "source": [],
   "metadata": {}
  }
 ],
 "metadata": {
  "orig_nbformat": 4,
  "language_info": {
   "name": "python",
   "version": "3.7.9",
   "mimetype": "text/x-python",
   "codemirror_mode": {
    "name": "ipython",
    "version": 3
   },
   "pygments_lexer": "ipython3",
   "nbconvert_exporter": "python",
   "file_extension": ".py"
  },
  "kernelspec": {
   "name": "python3",
   "display_name": "Python 3.7.9 64-bit ('myenv': conda)"
  },
  "interpreter": {
   "hash": "28a4ac92c4dc07a1a3916df32b8e89429a21b7d9d6a4118ca37610ee862531fa"
  }
 },
 "nbformat": 4,
 "nbformat_minor": 2
}